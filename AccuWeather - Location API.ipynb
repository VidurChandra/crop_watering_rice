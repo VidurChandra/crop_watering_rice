{
 "cells": [
  {
   "cell_type": "code",
   "execution_count": 2,
   "id": "f4c9ec97",
   "metadata": {},
   "outputs": [],
   "source": [
    "import json\n",
    "from pandas.io.json import json_normalize\n",
    "import pandas as pd\n",
    "import numpy as np\n",
    "import requests\n",
    "from bs4 import BeautifulSoup"
   ]
  },
  {
   "cell_type": "code",
   "execution_count": 3,
   "id": "75cfa67e",
   "metadata": {},
   "outputs": [],
   "source": [
    "# Hidden Cell\n",
    "API_Key = \"4MA2LskG7004PlQHLebZTJdLI6V0QKon\""
   ]
  },
  {
   "cell_type": "code",
   "execution_count": 4,
   "id": "e7bbe43c",
   "metadata": {},
   "outputs": [],
   "source": [
    "# Input Cell - Latitude and Longitude of Farm Plot\n",
    "# Parameters to Query Location from AccuWeather API\n",
    "\n",
    "# Jalandhar latitide, longitude = 31.339859046010186, 75.67295991087738\n",
    "latitide, longitude = 49.2827, -123.1207 # Vancouver \n",
    "\n",
    "q = str(latitide)+\",\"+str(longitude)"
   ]
  },
  {
   "cell_type": "code",
   "execution_count": 5,
   "id": "0ab65773",
   "metadata": {},
   "outputs": [],
   "source": [
    "# Fetching Location Code\n",
    "url_loc_code = \"http://dataservice.accuweather.com/locations/v1/cities/geoposition/search\"+\"?apikey=\"+str(API_Key)+\"&q=\"+str(q)\n",
    "results = requests.get(url_loc_code).json()"
   ]
  },
  {
   "cell_type": "code",
   "execution_count": 6,
   "id": "118ad0b9",
   "metadata": {},
   "outputs": [
    {
     "data": {
      "text/plain": [
       "'3382734'"
      ]
     },
     "execution_count": 6,
     "metadata": {},
     "output_type": "execute_result"
    }
   ],
   "source": [
    "# Normalizing Json file, coverting json file to dataframe\n",
    "df_1 = pd.DataFrame.from_dict(pd.json_normalize(results), orient='columns')\n",
    "\n",
    "# obtaining key of the farm plot. The key is subsequently used for further accessing the forecast data\n",
    "the_key = df_1['Key'][0]\n",
    "\n",
    "# Printing Key\n",
    "the_key"
   ]
  }
 ],
 "metadata": {
  "kernelspec": {
   "display_name": "Python 3",
   "language": "python",
   "name": "python3"
  },
  "language_info": {
   "codemirror_mode": {
    "name": "ipython",
    "version": 3
   },
   "file_extension": ".py",
   "mimetype": "text/x-python",
   "name": "python",
   "nbconvert_exporter": "python",
   "pygments_lexer": "ipython3",
   "version": "3.8.8"
  }
 },
 "nbformat": 4,
 "nbformat_minor": 5
}
